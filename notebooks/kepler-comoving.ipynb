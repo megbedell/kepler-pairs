{
 "cells": [
  {
   "cell_type": "markdown",
   "metadata": {},
   "source": [
    "## Co-moving stars in Kepler"
   ]
  },
  {
   "cell_type": "markdown",
   "metadata": {},
   "source": [
    "(done in a very hacky way) (but this is probably ok because we're assuming all the stars are far away)"
   ]
  },
  {
   "cell_type": "code",
   "execution_count": 113,
   "metadata": {},
   "outputs": [],
   "source": [
    "import numpy as np\n",
    "from astropy.table import Table, unique\n",
    "from astropy import units as u\n",
    "import astropy.coordinates as coord\n",
    "from astropy.time import Time\n",
    "import matplotlib.pyplot as plt\n",
    "from tqdm import tqdm\n",
    "import pandas as pd"
   ]
  },
  {
   "cell_type": "markdown",
   "metadata": {},
   "source": [
    "Load up the table, which was made with Gaia Archive xmatch, and remove sources without good parallax measures:"
   ]
  },
  {
   "cell_type": "code",
   "execution_count": 123,
   "metadata": {},
   "outputs": [],
   "source": [
    "kepler_table_file = '../data/kepler-result.fits'\n",
    "table = Table.read(kepler_table_file, format='fits')"
   ]
  },
  {
   "cell_type": "code",
   "execution_count": 124,
   "metadata": {},
   "outputs": [
    {
     "name": "stderr",
     "output_type": "stream",
     "text": [
      "/usr/local/Cellar/python3/3.6.0/Frameworks/Python.framework/Versions/3.6/lib/python3.6/site-packages/astropy/table/column.py:965: RuntimeWarning: invalid value encountered in greater\n",
      "  return getattr(self.data, op)(other)\n"
     ]
    }
   ],
   "source": [
    "filter = (table['phot_g_mean_mag'] >= 18.) & (table['parallax'] > 0.01)\n",
    "table = table[filter]"
   ]
  },
  {
   "cell_type": "markdown",
   "metadata": {},
   "source": [
    "Calculate angular separations. We'll also need some of this info later, so we'll save it in a copy table."
   ]
  },
  {
   "cell_type": "code",
   "execution_count": 125,
   "metadata": {},
   "outputs": [],
   "source": [
    "kicCoord = coord.SkyCoord(ra=table['ra_kic'] * u.deg, dec=table['dec_kic'] * u.deg)\n",
    "table['radial_velocity'][np.isnan(table['radial_velocity'])] = 0.\n",
    "gaia_time = Time('2015-01-01')\n",
    "gaiaCoord = coord.SkyCoord(ra=np.array(table['ra'])*u.deg, \n",
    "                        dec=np.array(table['dec'])*u.deg, \n",
    "                        distance=(np.array(table['parallax'])*u.mas).to(u.pc, u.parallax()),\n",
    "                        radial_velocity=np.array(table['radial_velocity'])*u.km/u.s,\n",
    "                        pm_ra_cosdec=np.array(table['pmra'])*u.mas/u.yr, \n",
    "                        pm_dec=np.array(table['pmdec'])*u.mas/u.yr, \n",
    "                        obstime=gaia_time\n",
    "                        )\n",
    "table['angDist'] = kicCoord.separation(gaiaCoord)"
   ]
  },
  {
   "cell_type": "code",
   "execution_count": 126,
   "metadata": {},
   "outputs": [],
   "source": [
    "plot_table = table['designation','phot_g_mean_mag','ra','dec',\n",
    "                          'parallax','radial_velocity','pmra','pmdec'].copy()"
   ]
  },
  {
   "cell_type": "markdown",
   "metadata": {},
   "source": [
    "Now convert to pandas for massive speed boosts. We'll also sort such that for each KIC ID, the best match comes first:"
   ]
  },
  {
   "cell_type": "code",
   "execution_count": 4,
   "metadata": {},
   "outputs": [],
   "source": [
    "table = table.to_pandas()"
   ]
  },
  {
   "cell_type": "code",
   "execution_count": 5,
   "metadata": {},
   "outputs": [],
   "source": [
    "table.sort_values(['kepid', 'angDist'], inplace=True)"
   ]
  },
  {
   "cell_type": "markdown",
   "metadata": {},
   "source": [
    "Define some useful functions:"
   ]
  },
  {
   "cell_type": "code",
   "execution_count": 28,
   "metadata": {},
   "outputs": [],
   "source": [
    "def ppm_check(star1, star2, sigma=5.):\n",
    "    \"\"\"\n",
    "    Returns True if the differences between parallax, pmra, and pmdec are all below \n",
    "    the sigma threshold.\n",
    "    \"\"\"\n",
    "    names = ['parallax', 'pmra', 'pmdec']\n",
    "    for name in names:\n",
    "        err = np.sqrt(star1[name+'_error']**2 + star2[name+'_error']**2)\n",
    "        if np.isnan(star1[name]) or np.isnan(star2[name]) or np.isnan(err):\n",
    "            return False\n",
    "        if (np.abs(star1[name] - star2[name])/err) >= sigma:\n",
    "            return False\n",
    "    return True"
   ]
  },
  {
   "cell_type": "code",
   "execution_count": 29,
   "metadata": {},
   "outputs": [],
   "source": [
    "def make_x(star):\n",
    "    \"\"\"\n",
    "    returns a vector of x = [parallax, pmra, pmdec]\n",
    "    \"\"\"\n",
    "    names = ['parallax', 'pmra', 'pmdec']\n",
    "    return np.array([star[n] for n in names])\n",
    "\n",
    "def make_cov(star):\n",
    "    \"\"\"\n",
    "    returns covariance matrix C corresponding to x\n",
    "    \"\"\"\n",
    "    names = ['parallax', 'pmra', 'pmdec']\n",
    "    C = np.zeros((3, 3)) # brittle\n",
    "    for i, name1 in enumerate(names):\n",
    "        err = star[name1+'_error']\n",
    "        C[i, i] = err ** 2\n",
    "        for j, name2 in enumerate(names):\n",
    "            if j >= i:\n",
    "                continue\n",
    "            corr = star[\"{0}_{1}_corr\".format(name2, name1)]\n",
    "            C[i, j] = corr * np.sqrt(C[i, i] * C[j, j])\n",
    "            C[j, i] = C[i, j]\n",
    "    return C\n",
    "\n",
    "def chisq(star1, star2):\n",
    "    \"\"\"\n",
    "    calculates chisquared for two stars based on their parallax and 2D proper motions\n",
    "    \"\"\"\n",
    "    deltax = make_x(star1) - make_x(star2)\n",
    "    cplusc = make_cov(star1) + make_cov(star2)\n",
    "    return np.dot(deltax, np.linalg.solve(cplusc, deltax))"
   ]
  },
  {
   "cell_type": "code",
   "execution_count": 30,
   "metadata": {},
   "outputs": [],
   "source": [
    "def check_with_primary(m, primary_match):\n",
    "    if ppm_check(primary_match, m):\n",
    "        tested_pair_ids.append((primary_match['designation'], m['designation']))\n",
    "        chisqs.append(chisq(primary_match, m))"
   ]
  },
  {
   "cell_type": "code",
   "execution_count": 32,
   "metadata": {},
   "outputs": [
    {
     "name": "stderr",
     "output_type": "stream",
     "text": [
      "100%|██████████| 199891/199891 [13:20<00:00, 249.66it/s]\n"
     ]
    }
   ],
   "source": [
    "all_names = np.unique(table['kepid'])\n",
    "tested_pair_ids = []\n",
    "chisqs = []\n",
    "for k in tqdm(all_names):\n",
    "    matches = table[table['kepid'] == k]\n",
    "    primary_match = matches.iloc[0]\n",
    "    other_matches = matches.iloc[1:]\n",
    "    other_matches.apply(check_with_primary, args=(primary_match,), axis=1)\n",
    "            \n",
    "tested_pair_ids = np.asarray(tested_pair_ids)\n",
    "chisqs = np.asarray(chisqs)"
   ]
  },
  {
   "cell_type": "code",
   "execution_count": 40,
   "metadata": {},
   "outputs": [
    {
     "data": {
      "image/png": "[encoded data removed]",
      "text/plain": [
       "<Figure size 432x288 with 1 Axes>"
      ]
     },
     "metadata": {},
     "output_type": "display_data"
    }
   ],
   "source": [
    "plt.hist(chisqs[chisqs < 10.], bins=100)\n",
    "plt.xlabel('$\\chi^2$')\n",
    "plt.ylabel('# Pairs')\n",
    "plt.yscale('log')"
   ]
  },
  {
   "cell_type": "code",
   "execution_count": 42,
   "metadata": {},
   "outputs": [],
   "source": [
    "duplicates = np.zeros_like(chisqs)\n",
    "for k,(i,j) in enumerate(tested_pair_ids):\n",
    "    if (j,i) in tested_pair_ids:\n",
    "        duplicates[k] = 1"
   ]
  },
  {
   "cell_type": "code",
   "execution_count": 43,
   "metadata": {},
   "outputs": [
    {
     "data": {
      "text/plain": [
       "4203.0"
      ]
     },
     "execution_count": 43,
     "metadata": {},
     "output_type": "execute_result"
    }
   ],
   "source": [
    "np.sum(duplicates)"
   ]
  },
  {
   "cell_type": "code",
   "execution_count": 44,
   "metadata": {},
   "outputs": [],
   "source": [
    "pairs = tested_pair_ids[chisqs < 10.]\n",
    "all_pair_members = np.unique(pairs)"
   ]
  },
  {
   "cell_type": "code",
   "execution_count": 71,
   "metadata": {},
   "outputs": [],
   "source": [
    "np.savetxt('pair_member_designations.txt', all_pair_members, fmt='%s')"
   ]
  },
  {
   "cell_type": "code",
   "execution_count": 127,
   "metadata": {},
   "outputs": [],
   "source": [
    "tab = plot_table[np.isin(plot_table['designation'],all_pair_members)]\n",
    "tab = unique(tab)"
   ]
  },
  {
   "cell_type": "code",
   "execution_count": 128,
   "metadata": {},
   "outputs": [
    {
     "name": "stdout",
     "output_type": "stream",
     "text": [
      "43953\n"
     ]
    }
   ],
   "source": [
    "print(len(tab))"
   ]
  },
  {
   "cell_type": "code",
   "execution_count": 129,
   "metadata": {},
   "outputs": [],
   "source": [
    "amplitude = 1e5\n",
    "tab['radial_velocity'] *= amplitude\n",
    "tab['pmra'] *= amplitude\n",
    "tab['pmdec'] *= amplitude\n",
    "tab['parallax'] *= amplitude"
   ]
  },
  {
   "cell_type": "code",
   "execution_count": 130,
   "metadata": {},
   "outputs": [],
   "source": [
    "mag = tab['phot_g_mean_mag']\n",
    "scnow = coord.SkyCoord(ra=np.array(tab['ra'])*u.deg, \n",
    "                        dec=np.array(tab['dec'])*u.deg, \n",
    "                        distance=(np.array(tab['parallax'])*u.mas).to(u.pc, u.parallax()),\n",
    "                        radial_velocity=np.array(tab['radial_velocity'])*u.km/u.s,\n",
    "                        pm_ra_cosdec=np.array(tab['pmra'])*u.mas/u.yr, \n",
    "                        pm_dec=np.array(tab['pmdec'])*u.mas/u.yr, \n",
    "                        obstime=gaia_time\n",
    "                        )"
   ]
  },
  {
   "cell_type": "code",
   "execution_count": 131,
   "metadata": {},
   "outputs": [],
   "source": [
    "def animfunc(t, xlim, ylim, ax):\n",
    "    sclater = scnow.apply_space_motion(new_obstime=gaia_time + t * u.yr)\n",
    "    \n",
    "    ax.cla()\n",
    "    ax.set_title('Kepler field, T={:,.0f} years'.format(t*amplitude), fontsize=18)\n",
    "    s = ax.scatter(sclater.ra.deg, sclater.dec.deg, c=np.log10(sclater.distance.value), \n",
    "               **scatkwargs)\n",
    "    ax.set_ylim(ylim)\n",
    "    ax.set_xlim(xlim)\n",
    "    ax.set_ylabel('Right Ascension (degrees)', fontsize=16)\n",
    "    ax.set_xlabel('Declination (degrees)', fontsize=16)\n",
    "    ax.grid(alpha=.5)"
   ]
  },
  {
   "cell_type": "code",
   "execution_count": 132,
   "metadata": {},
   "outputs": [],
   "source": [
    "fig = plt.figure(figsize=(8, 8))\n",
    "ax = plt.subplot()\n",
    "\n",
    "scatkwargs = dict(alpha=.7, s=3, cmap='viridis')\n",
    "\n",
    "times = np.linspace(-5., 0., 51)\n",
    "times = np.append(times, np.zeros(20))\n",
    "times = np.append(times, np.linspace(0., 5., 51))\n",
    "\n",
    "anim1 = animation.FuncAnimation(fig, animfunc, times,\n",
    "                                fargs=([275,305], [33,55], ax), \n",
    "                                interval=50)\n",
    "\n",
    "plt.close(fig)\n",
    "anim1.save('pair_propermotions.gif', dpi=80, writer='imagemagick')\n",
    "#HTML(anim1.to_html5_video())"
   ]
  },
  {
   "cell_type": "code",
   "execution_count": null,
   "metadata": {},
   "outputs": [],
   "source": []
  }
 ],
 "metadata": {
  "kernelspec": {
   "display_name": "Python 3",
   "language": "python",
   "name": "python3"
  },
  "language_info": {
   "codemirror_mode": {
    "name": "ipython",
    "version": 3
   },
   "file_extension": ".py",
   "mimetype": "text/x-python",
   "name": "python",
   "nbconvert_exporter": "python",
   "pygments_lexer": "ipython3",
   "version": "3.6.0"
  }
 },
 "nbformat": 4,
 "nbformat_minor": 2
}
