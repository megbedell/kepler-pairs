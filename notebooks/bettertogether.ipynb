{
 "cells": [
  {
   "cell_type": "markdown",
   "metadata": {},
   "source": [
    "### BetterTogether (TM)"
   ]
  },
  {
   "cell_type": "code",
   "execution_count": 68,
   "metadata": {},
   "outputs": [],
   "source": [
    "import numpy as np\n",
    "from astropy.table import Table, unique\n",
    "from astropy import units as u\n",
    "import astropy.coordinates as coord\n",
    "from astropy.time import Time\n",
    "from astropy.io import fits\n",
    "import matplotlib.pyplot as plt\n",
    "from tqdm import tqdm\n",
    "import pandas as pd"
   ]
  },
  {
   "cell_type": "code",
   "execution_count": 69,
   "metadata": {},
   "outputs": [],
   "source": [
    "cutoff = int(1e6)"
   ]
  },
  {
   "cell_type": "code",
   "execution_count": 70,
   "metadata": {},
   "outputs": [],
   "source": [
    "gaia_table_file = '../data/gaia-kepler-dustin.fits'\n",
    "hdul = fits.open(gaia_table_file)\n",
    "gaia_src_tbl = Table(hdul[1].data[:cutoff])\n",
    "gaia_src_tbl = gaia_src_tbl.to_pandas()"
   ]
  },
  {
   "cell_type": "code",
   "execution_count": 71,
   "metadata": {},
   "outputs": [],
   "source": [
    "pairs_file = '../data/matched-pairs-dustin.fits'\n",
    "hdul = fits.open(pairs_file)\n",
    "pairs = hdul[0].data[:cutoff]\n",
    "#pairs = pd.DataFrame(data=pairs)"
   ]
  },
  {
   "cell_type": "code",
   "execution_count": 72,
   "metadata": {},
   "outputs": [],
   "source": [
    "hdul = fits.open('../data/chisqs_matched-pairs.fits')\n",
    "chisqs = hdul[0].data[:cutoff]"
   ]
  },
  {
   "cell_type": "code",
   "execution_count": 75,
   "metadata": {},
   "outputs": [
    {
     "data": {
      "text/plain": [
       "(1000000, 169)"
      ]
     },
     "execution_count": 75,
     "metadata": {},
     "output_type": "execute_result"
    }
   ],
   "source": [
    "chisqs.shape"
   ]
  },
  {
   "cell_type": "markdown",
   "metadata": {},
   "source": [
    "Make a chi-squared cut & assemble the best pairs:"
   ]
  },
  {
   "cell_type": "code",
   "execution_count": 73,
   "metadata": {},
   "outputs": [
    {
     "data": {
      "image/png": "[encoded data removed]",
      "text/plain": [
       "<Figure size 432x288 with 1 Axes>"
      ]
     },
     "metadata": {},
     "output_type": "display_data"
    }
   ],
   "source": [
    "plt.hist(chisqs[(chisqs > 0.) & (chisqs < 100.)], bins=1000)\n",
    "plt.xlabel('$\\chi^2$', fontsize=16)\n",
    "plt.ylabel('# Pairs', fontsize=16)\n",
    "plt.yscale('log')\n",
    "plt.savefig('chisq_keplerpairs.png')"
   ]
  },
  {
   "cell_type": "code",
   "execution_count": 76,
   "metadata": {},
   "outputs": [
    {
     "data": {
      "text/plain": [
       "243800"
      ]
     },
     "execution_count": 76,
     "metadata": {},
     "output_type": "execute_result"
    }
   ],
   "source": [
    "matches_mask = (chisqs > 0) & (chisqs < 3)\n",
    "np.sum(matches_mask)"
   ]
  },
  {
   "cell_type": "code",
   "execution_count": 77,
   "metadata": {},
   "outputs": [
    {
     "data": {
      "text/plain": [
       "(1000000, 169)"
      ]
     },
     "execution_count": 77,
     "metadata": {},
     "output_type": "execute_result"
    }
   ],
   "source": [
    "matches_mask.shape"
   ]
  },
  {
   "cell_type": "code",
   "execution_count": 78,
   "metadata": {},
   "outputs": [
    {
     "data": {
      "text/plain": [
       "(1000000, 169)"
      ]
     },
     "execution_count": 78,
     "metadata": {},
     "output_type": "execute_result"
    }
   ],
   "source": [
    "pairs.shape"
   ]
  },
  {
   "cell_type": "code",
   "execution_count": 411,
   "metadata": {},
   "outputs": [],
   "source": [
    "len_inds, len_matches = np.shape(pairs)\n",
    "pairs_inds = np.array([np.arange(len_inds),]*len_matches).transpose()\n",
    "pairs_ind1s = pairs_inds[matches_mask]"
   ]
  },
  {
   "cell_type": "code",
   "execution_count": 412,
   "metadata": {},
   "outputs": [],
   "source": [
    "pairs_ind2s = pairs[matches_mask]"
   ]
  },
  {
   "cell_type": "markdown",
   "metadata": {},
   "source": [
    "Now let's select a random subset of 2048 pairs. We're actually going to select a larger subset and then grab only the ones where both members have significantly non-zero proper motions, to increase the likelihood that there are \"true\" pairs."
   ]
  },
  {
   "cell_type": "code",
   "execution_count": 413,
   "metadata": {},
   "outputs": [],
   "source": [
    "np.random.seed(42)\n",
    "rand_inds = np.random.randint(0, len(pairs_ind1s), 50000)\n",
    "pairs_ind1s = pairs_ind1s[rand_inds]\n",
    "pairs_ind2s = pairs_ind2s[rand_inds]"
   ]
  },
  {
   "cell_type": "code",
   "execution_count": 414,
   "metadata": {},
   "outputs": [
    {
     "data": {
      "text/plain": [
       "array([430428, 511129, 458679, ..., 491226, 144002, 243912])"
      ]
     },
     "execution_count": 414,
     "metadata": {},
     "output_type": "execute_result"
    }
   ],
   "source": [
    "pairs_ind1s"
   ]
  },
  {
   "cell_type": "code",
   "execution_count": 415,
   "metadata": {},
   "outputs": [],
   "source": [
    "def make_x(star):\n",
    "    \"\"\"\n",
    "    returns a vector of x = [parallax, pmra, pmdec]\n",
    "    \"\"\"\n",
    "    names = ['parallax', 'pmra', 'pmdec']\n",
    "    return star.loc[names].values.astype('f')\n",
    "\n",
    "def make_xerr(star):\n",
    "    \"\"\"\n",
    "    returns a vector of xerr = [parallax_error, pmra_error, pmdec_error]\n",
    "    \"\"\"\n",
    "    err_names = ['parallax_error', 'pmra_error', 'pmdec_error']\n",
    "    return star.loc[err_names].values.astype('f')   \n",
    "\n",
    "def make_cov(star):\n",
    "    \"\"\"\n",
    "    returns covariance matrix C corresponding to x\n",
    "    \"\"\"\n",
    "    names = ['parallax', 'pmra', 'pmdec']\n",
    "    C = np.diag(make_xerr(star)**2)\n",
    "    for i, name1 in enumerate(names):\n",
    "        for j, name2 in enumerate(names):\n",
    "            if j >= i:\n",
    "                continue\n",
    "            corr = star.loc[\"{0}_{1}_corr\".format(name2, name1)]\n",
    "            C[i, j] = corr * np.sqrt(C[i, i] * C[j, j])\n",
    "            C[j, i] = C[i, j]\n",
    "    return C"
   ]
  },
  {
   "cell_type": "code",
   "execution_count": 416,
   "metadata": {},
   "outputs": [],
   "source": [
    "def chisq_nonzero(star):\n",
    "    \"\"\"\n",
    "    Chisquared-like metric to diagnose how different from zero the proper motions\n",
    "    Does NOT take parallax into account\n",
    "    \"\"\"\n",
    "    x = make_x(star)[1:]\n",
    "    cov = make_cov(star)[1:,1:]\n",
    "    return np.dot(x, np.linalg.solve(cov, x))"
   ]
  },
  {
   "cell_type": "code",
   "execution_count": 417,
   "metadata": {},
   "outputs": [
    {
     "name": "stderr",
     "output_type": "stream",
     "text": [
      "100%|██████████| 50000/50000 [01:30<00:00, 554.73it/s]\n"
     ]
    }
   ],
   "source": [
    "nonzero_mask = np.zeros_like(pairs_ind1s, dtype=bool)\n",
    "for i in tqdm(range(len(nonzero_mask))):\n",
    "    star1 = gaia_src_tbl.iloc[pairs_ind1s[i]]\n",
    "    try:\n",
    "        star2 = gaia_src_tbl.iloc[pairs_ind2s[i]]\n",
    "    except: # catches error when match index isn't part of the loaded table subset\n",
    "        continue\n",
    "    chisq_nonzero1 = chisq_nonzero(star1)\n",
    "    chisq_nonzero2 = chisq_nonzero(star2)\n",
    "    if (chisq_nonzero1 >= 25) and (chisq_nonzero2 >= 25):\n",
    "        if (star1['parallax'] >= 0.) and (star2['parallax'] >= 0.):\n",
    "            nonzero_mask[i] = True"
   ]
  },
  {
   "cell_type": "code",
   "execution_count": 418,
   "metadata": {},
   "outputs": [
    {
     "data": {
      "text/plain": [
       "7141"
      ]
     },
     "execution_count": 418,
     "metadata": {},
     "output_type": "execute_result"
    }
   ],
   "source": [
    "np.sum(nonzero_mask)"
   ]
  },
  {
   "cell_type": "code",
   "execution_count": 419,
   "metadata": {},
   "outputs": [],
   "source": [
    "pairs_ind1s = pairs_ind1s[nonzero_mask][:2048]\n",
    "pairs_ind2s = pairs_ind2s[nonzero_mask][:2048]"
   ]
  },
  {
   "cell_type": "markdown",
   "metadata": {},
   "source": [
    "Calculate luminosities:"
   ]
  },
  {
   "cell_type": "code",
   "execution_count": 420,
   "metadata": {},
   "outputs": [],
   "source": [
    "def read_match_attr(ind1, ind2, attr):\n",
    "    return gaia_src_tbl.iloc[ind1][attr].values, gaia_src_tbl.iloc[ind2][attr].values"
   ]
  },
  {
   "cell_type": "code",
   "execution_count": 421,
   "metadata": {},
   "outputs": [],
   "source": [
    "(gmag1, gmag2) = read_match_attr(pairs_ind1s, pairs_ind2s, 'phot_g_mean_mag')\n",
    "(plx1, plx2) = read_match_attr(pairs_ind1s, pairs_ind2s, 'parallax')\n",
    "dist1 = 1.e3/plx1\n",
    "absg1 = gmag1 - 5.*(np.log10(dist1) - 1.)\n",
    "dist2 = 1.e3/plx2\n",
    "absg2 = gmag2 - 5.*(np.log10(dist2) - 1.)"
   ]
  },
  {
   "cell_type": "code",
   "execution_count": 422,
   "metadata": {},
   "outputs": [
    {
     "data": {
      "text/plain": [
       "array([ 2.3375397 ,  7.5032854 , -0.03613663, ..., 11.05818   ,\n",
       "        8.760487  ,  8.843185  ], dtype=float32)"
      ]
     },
     "execution_count": 422,
     "metadata": {},
     "output_type": "execute_result"
    }
   ],
   "source": [
    "absg1"
   ]
  },
  {
   "cell_type": "markdown",
   "metadata": {},
   "source": [
    "Now grab the fainter of each pair and make a CMD:"
   ]
  },
  {
   "cell_type": "code",
   "execution_count": 423,
   "metadata": {},
   "outputs": [],
   "source": [
    "#pairs_2d = np.vstack([pairs_ind1s, pairs_ind2s])\n",
    "#absgs_2d = np.vstack([absg1, absg2])\n",
    "#argsort_absgs_2d = np.argsort(absgs_2d, axis=0)"
   ]
  },
  {
   "cell_type": "code",
   "execution_count": 424,
   "metadata": {},
   "outputs": [],
   "source": [
    "# this is dumb but I can't figure out how to make the argsort method work:\n",
    "pairs_indfaints = np.zeros_like(pairs_ind1s)\n",
    "pairs_indbrights = np.zeros_like(pairs_ind1s)\n",
    "for i in range(2048):\n",
    "    if gmag1[i] > gmag2[i]:\n",
    "        pairs_indfaints[i] = pairs_ind1s[i]\n",
    "        pairs_indbrights[i] = pairs_ind2s[i]\n",
    "    else:\n",
    "        pairs_indfaints[i] = pairs_ind2s[i]\n",
    "        pairs_indbrights[i] = pairs_ind1s[i]        "
   ]
  },
  {
   "cell_type": "code",
   "execution_count": 425,
   "metadata": {},
   "outputs": [],
   "source": [
    "np.savetxt('../data/bettertogetherpairs.txt', np.vstack([pairs_indfaints, pairs_indbrights]).T, \n",
    "           header='pairs_indfaints, pairs_indbrights', delimiter=',', fmt='%.0i')"
   ]
  },
  {
   "cell_type": "code",
   "execution_count": 426,
   "metadata": {},
   "outputs": [],
   "source": [
    "(gmag1, gmag2) = read_match_attr(pairs_indfaints, pairs_indbrights, 'phot_g_mean_mag')\n",
    "(plx1, plx2) = read_match_attr(pairs_indfaints, pairs_indbrights, 'parallax')\n",
    "(plx1e, plx2e) = read_match_attr(pairs_indfaints, pairs_indbrights, 'parallax_error')\n",
    "dist1a = 1.e3/(plx1 + plx1e)\n",
    "tiny = 1e-6\n",
    "dist1b = 1.e3/np.clip(plx1 - plx1e, tiny, np.Inf)\n",
    "absg1a = gmag1 - 5.*(np.log10(dist1a) - 1.)\n",
    "absg1b = gmag1 - 5.*(np.log10(dist1b) - 1.)\n",
    "dist2 = 1.e3/plx2\n",
    "absg2 = gmag2 - 5.*(np.log10(dist2) - 1.)"
   ]
  },
  {
   "cell_type": "code",
   "execution_count": 427,
   "metadata": {},
   "outputs": [],
   "source": [
    "(bp_rp1, bp_rp2) = read_match_attr(pairs_indfaints, pairs_indbrights, 'bp_rp')"
   ]
  },
  {
   "cell_type": "code",
   "execution_count": 428,
   "metadata": {},
   "outputs": [
    {
     "data": {
      "image/png": "[encoded data removed]",
      "text/plain": [
       "<Figure size 432x288 with 1 Axes>"
      ]
     },
     "metadata": {},
     "output_type": "display_data"
    }
   ],
   "source": [
    "plot_inds = np.random.randint(0, len(pairs_ind1s), 1024)\n",
    "#plot_inds = np.where(np.abs(absg1a - absg1b) < 2.0)\n",
    "for c, (a, b) in zip(bp_rp1[plot_inds], zip(absg1a[plot_inds], absg1b[plot_inds])):\n",
    "    if np.abs(a - b) <= 1.0:\n",
    "        alpha = 0.6\n",
    "    else:\n",
    "        alpha = 0.6/np.abs(a - b)\n",
    "    plt.plot([c, c], [a, b], 'k-', alpha=alpha)\n",
    "plt.ylim([17,-4])\n",
    "plt.xlim([-0.2, 3.2])\n",
    "plt.ylabel('M$_G$', fontsize=16)\n",
    "plt.xlabel('Bp - Rp (mag)', fontsize=16)\n",
    "plt.savefig('colormag_before.pdf')"
   ]
  },
  {
   "cell_type": "markdown",
   "metadata": {},
   "source": [
    "Let's now combine the parallax measurements to get better constraints:"
   ]
  },
  {
   "cell_type": "code",
   "execution_count": 429,
   "metadata": {},
   "outputs": [],
   "source": [
    "better_xs = []\n",
    "better_covs = []\n",
    "for i1, i2 in zip(pairs_indfaints, pairs_indbrights):\n",
    "    star1 = gaia_src_tbl.iloc[i1]\n",
    "    star2 = gaia_src_tbl.iloc[i2]\n",
    "    cinv1 = np.linalg.inv(make_cov(star1))\n",
    "    cinv2 = np.linalg.inv(make_cov(star2))\n",
    "    C = np.linalg.inv(cinv1 + cinv2)\n",
    "    x = np.dot(C, np.dot(cinv1, make_x(star1)) \n",
    "                      + np.dot(cinv2, make_x(star2)))\n",
    "    better_xs.append(x)\n",
    "    better_covs.append(C)\n",
    "better_plx = np.array([x[0] for x in better_xs])\n",
    "better_plx_err = np.array([np.sqrt(C[0,0]) for C in better_covs])"
   ]
  },
  {
   "cell_type": "code",
   "execution_count": 430,
   "metadata": {},
   "outputs": [],
   "source": [
    "better_dist1a = 1.e3/(better_plx + better_plx_err)\n",
    "tiny = 1e-6\n",
    "better_dist1b = 1.e3/np.clip(better_plx - better_plx_err, tiny, np.Inf)\n",
    "better_absg1a = gmag1 - 5.*(np.log10(better_dist1a) - 1.)\n",
    "better_absg1b = gmag1 - 5.*(np.log10(better_dist1b) - 1.)"
   ]
  },
  {
   "cell_type": "code",
   "execution_count": 431,
   "metadata": {},
   "outputs": [
    {
     "data": {
      "image/png": "[encoded data removed]",
      "text/plain": [
       "<Figure size 432x288 with 1 Axes>"
      ]
     },
     "metadata": {},
     "output_type": "display_data"
    }
   ],
   "source": [
    "for c, (a, b) in zip(bp_rp1[plot_inds], zip(better_absg1a[plot_inds], better_absg1b[plot_inds])):\n",
    "    if np.abs(a - b) <= 1.0:\n",
    "        alpha = 0.6\n",
    "    else:\n",
    "        alpha = 0.6/np.abs(a - b)\n",
    "    plt.plot([c, c], [a, b], 'k-', alpha=alpha)\n",
    "plt.ylim([17,-4])\n",
    "plt.xlim([-0.2, 3.2])\n",
    "plt.ylabel('M$_G$', fontsize=16)\n",
    "plt.xlabel('Bp - Rp (mag)', fontsize=16)\n",
    "plt.savefig('colormag_after.pdf')"
   ]
  },
  {
   "cell_type": "markdown",
   "metadata": {},
   "source": [
    "Sanity check: plot the parallax and proper motions of a pair and then their \"better together\" values:"
   ]
  },
  {
   "cell_type": "code",
   "execution_count": 388,
   "metadata": {},
   "outputs": [],
   "source": [
    "from plot_tools import error_ellipse\n",
    "fs = 12"
   ]
  },
  {
   "cell_type": "code",
   "execution_count": 389,
   "metadata": {},
   "outputs": [],
   "source": [
    "def plot_xs(i, sigma=1):\n",
    "    star1 = gaia_src_tbl.iloc[pairs_indfaints[i]]\n",
    "    star2 = gaia_src_tbl.iloc[pairs_indbrights[i]]\n",
    "    x1 = make_x(star1)\n",
    "    cov1 = make_cov(star1)\n",
    "    x2 = make_x(star2)\n",
    "    cov2 = make_cov(star2)\n",
    "    better_x = better_xs[i]\n",
    "    better_cov = better_covs[i]\n",
    "    \n",
    "    fig = plt.figure(figsize=(12,4))\n",
    "    ax1 = fig.add_subplot(131)\n",
    "    error_ellipse(ax1, x1[0], x1[1], cov1[:2,:2], ec='red', sigma=sigma)\n",
    "    error_ellipse(ax1, x2[0], x2[1], cov2[:2,:2], ec='blue', sigma=sigma)\n",
    "    error_ellipse(ax1, better_x[0], better_x[1], better_cov[:2,:2], ec='green', sigma=sigma, lw=2)\n",
    "    ax1.set_xlim([min([x1[0], x2[0]]) - 5., max([x1[0], x2[0]]) + 5.])\n",
    "    ax1.set_ylim([min([x1[1], x2[1]]) - 5., max([x1[1], x2[1]]) + 5.])\n",
    "    ax1.set_xlabel('Parallax (mas)', fontsize=fs)\n",
    "    ax1.set_ylabel('PM RA (mas yr$^{-1}$)', fontsize=fs)\n",
    "\n",
    "    ax2 = fig.add_subplot(133)\n",
    "    error_ellipse(ax2, x1[1], x1[2], cov1[1:,1:], ec='red', sigma=sigma)\n",
    "    error_ellipse(ax2, x2[1], x2[2], cov2[1:,1:], ec='blue', sigma=sigma)\n",
    "    error_ellipse(ax2, better_x[1], better_x[2], better_cov[1:,1:], ec='green', sigma=sigma, lw=2)\n",
    "    ax2.set_xlim([min([x1[1], x2[1]]) - 5., max([x1[1], x2[1]]) + 5.])\n",
    "    ax2.set_ylim([min([x1[2], x2[2]]) - 5., max([x1[2], x2[2]]) + 5.])\n",
    "    ax2.set_xlabel('PM RA (mas yr$^{-1}$)', fontsize=fs)\n",
    "    ax2.set_ylabel('PM Dec (mas yr$^{-1}$)', fontsize=fs)\n",
    "    \n",
    "    ax3 = fig.add_subplot(132)\n",
    "    c1 = np.delete(np.delete(cov1, 1, axis=0), 1, axis=1)\n",
    "    c2 = np.delete(np.delete(cov2, 1, axis=0), 1, axis=1)\n",
    "    c3 = np.delete(np.delete(better_cov, 1, axis=0), 1, axis=1)\n",
    "    error_ellipse(ax3, x1[0], x1[2], c1, ec='red', sigma=sigma)\n",
    "    error_ellipse(ax3, x2[0], x2[2], c2, ec='blue', sigma=sigma)\n",
    "    error_ellipse(ax3, better_x[0], better_x[2], c3, ec='green', sigma=sigma, lw=2)\n",
    "    ax3.set_xlim([min([x1[0], x2[0]]) - 5., max([x1[0], x2[0]]) + 5.])\n",
    "    ax3.set_ylim([min([x1[2], x2[2]]) - 5., max([x1[2], x2[2]]) + 5.])\n",
    "    ax3.set_xlabel('Parallax (mas)', fontsize=fs)\n",
    "    ax3.set_ylabel('PM Dec (mas yr$^{-1}$)', fontsize=fs)\n",
    "    \n",
    "    fig.subplots_adjust(wspace = 0.5)\n",
    "    fig.text(0.5, 0.95, 'match #{0}'.format(i), horizontalalignment='center', \n",
    "             transform=ax3.transAxes, fontsize=fs+2)\n",
    "    fig.savefig('ellipses.pdf')"
   ]
  },
  {
   "cell_type": "code",
   "execution_count": 390,
   "metadata": {},
   "outputs": [
    {
     "data": {
      "image/png": "[encoded data removed]",
      "text/plain": [
       "<Figure size 864x288 with 3 Axes>"
      ]
     },
     "metadata": {},
     "output_type": "display_data"
    }
   ],
   "source": [
    "i = np.random.randint(0, len(pairs_indfaints))\n",
    "#i = 373\n",
    "plot_xs(i, sigma=1)"
   ]
  },
  {
   "cell_type": "code",
   "execution_count": null,
   "metadata": {},
   "outputs": [],
   "source": []
  },
  {
   "cell_type": "code",
   "execution_count": null,
   "metadata": {},
   "outputs": [],
   "source": []
  }
 ],
 "metadata": {
  "kernelspec": {
   "display_name": "Python 3",
   "language": "python",
   "name": "python3"
  },
  "language_info": {
   "codemirror_mode": {
    "name": "ipython",
    "version": 3
   },
   "file_extension": ".py",
   "mimetype": "text/x-python",
   "name": "python",
   "nbconvert_exporter": "python",
   "pygments_lexer": "ipython3",
   "version": "3.6.0"
  }
 },
 "nbformat": 4,
 "nbformat_minor": 2
}
